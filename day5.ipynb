{
 "cells": [
  {
   "cell_type": "code",
   "execution_count": 60,
   "metadata": {
    "scrolled": true
   },
   "outputs": [
    {
     "name": "stdout",
     "output_type": "stream",
     "text": [
      "3\n",
      "5\n",
      "7\n",
      "11\n",
      "13\n",
      "17\n",
      "19\n"
     ]
    }
   ],
   "source": [
    "for i in range(2,21):\n",
    "    for j in range(2,i):\n",
    "        if (i%j==0):\n",
    "            break\n",
    "    else:\n",
    "        if (i%2!=0):\n",
    "        \n",
    "                  print(i)\n",
    "        \n",
    "            "
   ]
  },
  {
   "cell_type": "code",
   "execution_count": 86,
   "metadata": {},
   "outputs": [
    {
     "name": "stdout",
     "output_type": "stream",
     "text": [
      "mjj\n",
      "rogr\n",
      "heellmjj\n",
      "HEELL\n",
      "mjj\n",
      "['to', 'the', 'jungle']\n",
      "['the', 'jungle']\n",
      "2\n"
     ]
    }
   ],
   "source": [
    "#creating\n",
    "str2=\"mjj\"\n",
    "print(str)\n",
    "\n",
    "#accessing\n",
    "str1 = 'programiz'\n",
    "print(str1[1:5])\n",
    "\n",
    "# deleting string\n",
    "del str1\n",
    "\n",
    "#concatenation \n",
    "str1=\"heell\"\n",
    "str3=str1+str2\n",
    "print(str3)\n",
    "\n",
    "# uppercase\n",
    "str4=str1.upper()\n",
    "print(str4)\n",
    "#lower case\n",
    "str5=str2.lower()\n",
    "print(str5)\n",
    "\n",
    "#split\n",
    "txt = \"welcome to the jungle\"\n",
    "\n",
    "x = txt.split()\n",
    "y=txt.split()[1:]\n",
    "z=txt.split()[2:]\n",
    "print(y)\n",
    "\n",
    "print(z)\n",
    "\n",
    "#count\n",
    "txt = \"I love apples, apple are my favorite fruit\"\n",
    "\n",
    "x = txt.count(\"apple\")\n",
    "\n",
    "print(x)\n",
    "\n",
    "\n"
   ]
  },
  {
   "cell_type": "code",
   "execution_count": 94,
   "metadata": {},
   "outputs": [
    {
     "name": "stdout",
     "output_type": "stream",
     "text": [
      "Enter a string:madam\n",
      "enter a stringdamma\n",
      "it is anagram\n"
     ]
    }
   ],
   "source": [
    "string=input((\"Enter a string:\"))\n",
    "string2=input(\"enter a string\")\n",
    "if(string==string2[::-1]):\n",
    "      print(\"The string is a palindrome\")\n",
    "\n",
    "    \n",
    "elif(sorted(string)==sorted(string2)):\n",
    "    print(\"it is anagram\")\n",
    "else:\n",
    "    print(\"none of them\")\n",
    "    \n",
    "\n",
    "\n",
    "\n"
   ]
  },
  {
   "cell_type": "code",
   "execution_count": 58,
   "metadata": {},
   "outputs": [
    {
     "name": "stdout",
     "output_type": "stream",
     "text": [
      "drdarshaningleaimltrainer\n"
     ]
    }
   ],
   "source": [
    "\n",
    "stre=['', '.']\n",
    "str1= \"Dr. Darshan Ingle @AIML Trainer\"\n",
    "\n",
    "for i in stre:\n",
    "    \n",
    "    strt=str1.replace(i,'')\n",
    "vos=['@']\n",
    "for b in vos:\n",
    "    stg=strt.replace(b,'')\n",
    "    \n",
    "vop=[\" \",\" \"]\n",
    "for f in vop:\n",
    "    klk=stg.replace(f,'')\n",
    "print(klk.lower())"
   ]
  },
  {
   "cell_type": "code",
   "execution_count": null,
   "metadata": {},
   "outputs": [],
   "source": []
  },
  {
   "cell_type": "code",
   "execution_count": 38,
   "metadata": {},
   "outputs": [],
   "source": []
  },
  {
   "cell_type": "code",
   "execution_count": null,
   "metadata": {},
   "outputs": [],
   "source": []
  },
  {
   "cell_type": "code",
   "execution_count": null,
   "metadata": {},
   "outputs": [],
   "source": []
  },
  {
   "cell_type": "code",
   "execution_count": null,
   "metadata": {},
   "outputs": [],
   "source": []
  },
  {
   "cell_type": "code",
   "execution_count": null,
   "metadata": {},
   "outputs": [],
   "source": []
  }
 ],
 "metadata": {
  "kernelspec": {
   "display_name": "Python 3",
   "language": "python",
   "name": "python3"
  },
  "language_info": {
   "codemirror_mode": {
    "name": "ipython",
    "version": 3
   },
   "file_extension": ".py",
   "mimetype": "text/x-python",
   "name": "python",
   "nbconvert_exporter": "python",
   "pygments_lexer": "ipython3",
   "version": "3.7.6"
  }
 },
 "nbformat": 4,
 "nbformat_minor": 4
}
